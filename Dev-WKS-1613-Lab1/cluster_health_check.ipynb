{
 "cells": [
  {
   "cell_type": "code",
   "execution_count": 45,
   "metadata": {},
   "outputs": [],
   "source": [
    "# IMPORT LIBRARIES AND MODULES\n",
    "import paramiko\n",
    "import logging\n",
    "from paramiko_expect import SSHClientInteraction\n",
    "from paramiko.ssh_exception import AuthenticationException, SSHException, NoValidConnectionsError\n",
    "import json\n",
    "import xlsxwriter\n",
    "import re\n",
    "\n"
   ]
  },
  {
   "cell_type": "code",
   "execution_count": 46,
   "metadata": {},
   "outputs": [],
   "source": [
    "# IMPORT THE CLASS MODULES\n",
    "# The DataAnalysis class reads command outputs from a text file, parses and analyzes server replication statuses, and logs errors or successful tests.\n",
    "\n",
    "from data_analysis import DataAnalysis"
   ]
  },
  {
   "cell_type": "code",
   "execution_count": 29,
   "metadata": {},
   "outputs": [],
   "source": [
    "# INPUT FILES - SERVER DETAILS & COMMANDS LIST\n",
    "server_file = 'uc_server.json'\n",
    "command_file = 'commandList.txt'"
   ]
  },
  {
   "cell_type": "code",
   "execution_count": 47,
   "metadata": {},
   "outputs": [
    {
     "name": "stdout",
     "output_type": "stream",
     "text": [
      "[{'ip': '198.18.133.3', 'os_uname': 'administrator', 'os_pass': 'dCloud123!', 'type': 'CUCM'}]\n",
      "198.18.133.3 administrator dCloud123! CUCM\n",
      "Server List:  [{'ip': '198.18.133.3', 'os_uname': 'administrator', 'os_pass': 'dCloud123!', 'type': 'CUCM'}]\n",
      "CM Server List:  [{'ip': '198.18.133.3', 'os_uname': 'administrator', 'os_pass': 'dCloud123!', 'type': 'CUCM'}]\n"
     ]
    }
   ],
   "source": [
    "# READ THE SERVER DETAILS FROM JSON FILE AND FILTER OUT CUCM SERVERS AND STORE IN A LIST\n",
    "server_list = []\n",
    "cm_server = []\n",
    "\n",
    "with open(server_file) as f:\n",
    "    server_list = json.load(f)\n",
    "    print(server_list)\n",
    "    for srv in server_list:\n",
    "        ip = srv['ip']\n",
    "        os_uname = srv['os_uname']\n",
    "        os_pass = srv['os_pass']\n",
    "        type = srv['type']\n",
    "        print(ip, os_uname, os_pass, type)\n",
    "        if type == 'CUCM':\n",
    "            cm_server.append(srv)\n",
    "\n",
    "print(\"Server List: \", server_list)\n",
    "print(\"CM Server List: \", cm_server)"
   ]
  },
  {
   "cell_type": "code",
   "execution_count": 48,
   "metadata": {},
   "outputs": [
    {
     "name": "stdout",
     "output_type": "stream",
     "text": [
      "['utils dbreplication runtimestate']\n"
     ]
    }
   ],
   "source": [
    "# READ THE COMMANDS FROM THE COMMAND FILE AND STORE IN A LIST\n",
    "commands = []\n",
    "with open(command_file, 'r') as file:\n",
    "    commands = [line.strip() for line in file if line.strip()]\n",
    "    print(commands)"
   ]
  },
  {
   "cell_type": "code",
   "execution_count": 49,
   "metadata": {},
   "outputs": [],
   "source": [
    "# USING PARAMIKO TO CONNECT TO SERVERS\n",
    "\n",
    "def connect(ip, username, password):\n",
    "    ssh = paramiko.SSHClient()\n",
    "    ssh.set_missing_host_key_policy(paramiko.AutoAddPolicy())\n",
    "    try:\n",
    "        ssh.connect(ip, username=username, password=password)\n",
    "        interact = SSHClientInteraction(ssh, timeout=60, display=True)\n",
    "        logging.info(f\"Successfully connected to {ip}\")\n",
    "        return ssh, interact\n",
    "    except (AuthenticationException, SSHException, NoValidConnectionsError) as e:\n",
    "        logging.error(f\"Failed to connect to {ip}: {str(e)}\")\n",
    "        raise e"
   ]
  },
  {
   "cell_type": "code",
   "execution_count": 50,
   "metadata": {},
   "outputs": [],
   "source": [
    "# CLOSE THE CONNECTION AFTER EXECUTING COMMANDS\n",
    "def close(ssh):\n",
    "    if ssh:\n",
    "        try:\n",
    "            ssh.close()\n",
    "            print(f\"Connection closed\")\n",
    "        except Exception as e:\n",
    "            print(f\"Failed to close connection: {str(e)}\")\n",
    "            raise e"
   ]
  },
  {
   "cell_type": "code",
   "execution_count": 51,
   "metadata": {},
   "outputs": [
    {
     "name": "stderr",
     "output_type": "stream",
     "text": [
      "INFO:paramiko.transport:Connected (version 2.0, client OpenSSH_8.8)\n",
      "INFO:paramiko.transport:Authentication (password) successful!\n",
      "INFO:root:Successfully connected to 198.18.133.3\n"
     ]
    },
    {
     "name": "stdout",
     "output_type": "stream",
     "text": [
      "Connected to  198.18.133.3\n",
      "<paramiko.client.SSHClient object at 0x0000025112BE8290> <paramiko_expect.SSHClientInteraction object at 0x0000025112C8FBC0>\n",
      "Connection closed\n"
     ]
    }
   ],
   "source": [
    "# SAMPLE CODE TO CONNECT TO SERVERS\n",
    "for cm in cm_server:\n",
    "    ip = cm['ip']\n",
    "    os_uname = cm['os_uname']\n",
    "    os_pass = cm['os_pass']\n",
    "    try:\n",
    "        ssh, interact = connect(ip, os_uname, os_pass)\n",
    "        print(\"Connected to \", ip)\n",
    "        print(ssh, interact)\n",
    "        close(ssh)\n",
    "    except Exception as e:\n",
    "        print(e)\n",
    "        continue\n"
   ]
  },
  {
   "cell_type": "code",
   "execution_count": 52,
   "metadata": {},
   "outputs": [],
   "source": [
    "# CONNECT TO SERVERS, NOW EXECUTE COMMANDS\n",
    "\n",
    "def execute_command(interact, command):\n",
    "    try:\n",
    "        interact.send(command)\n",
    "        interact.expect('admin:', timeout=700)\n",
    "        output = interact.current_output_clean\n",
    "        print(output)\n",
    "        logging.info(f\"Command executed successfully: {command}\")\n",
    "        return output\n",
    "    except Exception as e:\n",
    "        logging.error(f\"Failed to execute command {command}: {str(e)}\")\n",
    "        raise e"
   ]
  },
  {
   "cell_type": "code",
   "execution_count": 53,
   "metadata": {},
   "outputs": [
    {
     "name": "stderr",
     "output_type": "stream",
     "text": [
      "INFO:paramiko.transport:Connected (version 2.0, client OpenSSH_8.8)\n",
      "INFO:paramiko.transport:Authentication (password) successful!\n",
      "INFO:root:Successfully connected to 198.18.133.3\n"
     ]
    },
    {
     "name": "stdout",
     "output_type": "stream",
     "text": [
      "Connected to  198.18.133.3\n",
      "<paramiko.client.SSHClient object at 0x0000025112BF7E60> <paramiko_expect.SSHClientInteraction object at 0x00000251124DB590>\n",
      "utils dbreplication runtimestate\n",
      "utils dbreplication runtimestate\n",
      "Command Line Interface is starting up, please wait ...\n",
      "\n",
      "   Welcome to the Platform Command Line Interface\n",
      "\n",
      "VMware Installation:\n",
      "\t2 vCPU: Intel(R) Xeon(R) CPU E7- 2830  @ 2.13GHz\n",
      "\tDisk 1: 150GB, Partitions aligned\n",
      "\t8192 Mbytes RAM\n",
      "\n",
      "admin:"
     ]
    },
    {
     "name": "stderr",
     "output_type": "stream",
     "text": [
      "INFO:root:Command executed successfully: utils dbreplication runtimestate\n"
     ]
    },
    {
     "name": "stdout",
     "output_type": "stream",
     "text": [
      "utils dbreplication runtimestate\n",
      "Command Line Interface is starting up, please wait ...\n",
      "\n",
      "   Welcome to the Platform Command Line Interface\n",
      "\n",
      "VMware Installation:\n",
      "\t2 vCPU: Intel(R) Xeon(R) CPU E7- 2830  @ 2.13GHz\n",
      "\tDisk 1: 150GB, Partitions aligned\n",
      "\t8192 Mbytes RAM\n",
      "\n",
      "\n",
      "HEALTH CHECK OUTPUT \n",
      "\n",
      "utils dbreplication runtimestate\n",
      "Command Line Interface is starting up, please wait ...\n",
      "\n",
      "   Welcome to the Platform Command Line Interface\n",
      "\n",
      "VMware Installation:\n",
      "\t2 vCPU: Intel(R) Xeon(R) CPU E7- 2830  @ 2.13GHz\n",
      "\tDisk 1: 150GB, Partitions aligned\n",
      "\t8192 Mbytes RAM\n",
      "\n",
      "\n",
      "Connection closed\n"
     ]
    }
   ],
   "source": [
    "# SAMPLE CODE TO EXECUTE COMMANDS AFTER CONNECTING TO SERVERS\n",
    "output = \"HEALTH CHECK OUTPUT \\n\\n\"\n",
    "for cm in cm_server:\n",
    "    ip = cm['ip']\n",
    "    os_uname = cm['os_uname']\n",
    "    os_pass = cm['os_pass']\n",
    "    ssh, interact = connect(ip, os_uname, os_pass)\n",
    "    print(\"Connected to \", ip)\n",
    "    print(ssh, interact)\n",
    "    for command in commands:\n",
    "        print(command)\n",
    "        output = output + execute_command(interact, command)\n",
    "        print(output)\n",
    "    close(ssh)"
   ]
  },
  {
   "cell_type": "code",
   "execution_count": 54,
   "metadata": {},
   "outputs": [],
   "source": [
    "# SAVE EXECUTED COMMAND OUTPUT TO A FILE\n",
    "def save_output(ip, commands, output,count):\n",
    "    ip_file_name = ip.replace('.', '_')\n",
    "    output_file = f\"{ip_file_name}.txt\"\n",
    "    with open(output_file, 'w') as out:\n",
    "        out.write(output)\n",
    "    print(f\"Output saved to {output_file}\")\n",
    "\n",
    "    workbook = xlsxwriter.Workbook('output.xlsx')\n",
    "    worksheet = workbook.add_worksheet()\n",
    "    worksheet.write('A' + str(count), ip)\n",
    "    worksheet.write('B' + str(count), commands)\n",
    "    worksheet.write('C' + str(count), output)\n",
    "    # save the file\n",
    "    workbook.close()\n"
   ]
  },
  {
   "cell_type": "code",
   "execution_count": 55,
   "metadata": {},
   "outputs": [
    {
     "name": "stderr",
     "output_type": "stream",
     "text": [
      "INFO:paramiko.transport:Connected (version 2.0, client OpenSSH_8.8)\n",
      "INFO:paramiko.transport:Authentication (password) successful!\n",
      "INFO:root:Successfully connected to 198.18.133.3\n"
     ]
    },
    {
     "name": "stdout",
     "output_type": "stream",
     "text": [
      "Connected to  198.18.133.3\n",
      "<paramiko.client.SSHClient object at 0x0000025112BF7770> <paramiko_expect.SSHClientInteraction object at 0x0000025112BF7FB0>\n",
      "utils dbreplication runtimestate\n",
      "Command Line Interface is starting up, please wait ...\n",
      "\n",
      "   Welcome to the Platform Command Line Interface\n",
      "\n",
      "VMware Installation:\n",
      "\t2 vCPU: Intel(R) Xeon(R) CPU E7- 2830  @ 2.13GHz\n",
      "\tDisk 1: 150GB, Partitions aligned\n",
      "\t8192 Mbytes RAM\n",
      "\n",
      "admin:utils dbreplication runtimestate\n",
      "\n",
      "\n",
      "Server Time: Wed Feb 12 17:13:56 CST 2025\n",
      "\n",
      "Cluster Replication State: BROADCAST SYNC ended at: 2025-02-10-23-14\n",
      "     Sync Result: SYNC COMPLETED on 753 tables out of 753\n",
      "     Sync Status: All Tables are in sync\n",
      "     Use CLI to see detail: 'file view activelog cm/trace/dbl/20250210_231106_dbl_repl_output_Broadcast.log'\n",
      "\n",
      "DB Version: ccm15_0_1_11900_23\n",
      "\n",
      "Repltimeout set to: 300s\n",
      "PROCESS option set to: 1\n",
      "\n",
      "\n",
      "Cluster Detailed View from cucm1 (3 Servers):\n",
      "\n",
      "                                           PING      DB/RPC/   REPL.    Replication    REPLICATION SETUP\n",
      "SERVER-NAME              IP ADDRESS        (msec)    DbMon?    QUEUE    Group ID       (RTMT) & Details\n",
      "-----------              ----------        ------    -------   -----    -----------    ------------------\n",
      "cucm1                    198.18.133.3      0.025     Y/Y/Y     0        (g_2)          (2) Setup Completed\n",
      "cucm2                    198.18.133.33     0.258     Y/Y/Y     0        (g_5)          (2) Setup Completed\n",
      "cucm3                    198.18.133.34     0.242     Y/Y/Y     0        (g_6)          (2) Setup Completed\n",
      " \n",
      "\n",
      " \n",
      "admin:"
     ]
    },
    {
     "name": "stderr",
     "output_type": "stream",
     "text": [
      "INFO:root:Command executed successfully: utils dbreplication runtimestate\n"
     ]
    },
    {
     "name": "stdout",
     "output_type": "stream",
     "text": [
      "utils dbreplication runtimestate\n",
      "Command Line Interface is starting up, please wait ...\n",
      "\n",
      "   Welcome to the Platform Command Line Interface\n",
      "\n",
      "VMware Installation:\n",
      "\t2 vCPU: Intel(R) Xeon(R) CPU E7- 2830  @ 2.13GHz\n",
      "\tDisk 1: 150GB, Partitions aligned\n",
      "\t8192 Mbytes RAM\n",
      "\n",
      "admin:utils dbreplication runtimestate\n",
      "\n",
      "\n",
      "Server Time: Wed Feb 12 17:13:56 CST 2025\n",
      "\n",
      "Cluster Replication State: BROADCAST SYNC ended at: 2025-02-10-23-14\n",
      "     Sync Result: SYNC COMPLETED on 753 tables out of 753\n",
      "     Sync Status: All Tables are in sync\n",
      "     Use CLI to see detail: 'file view activelog cm/trace/dbl/20250210_231106_dbl_repl_output_Broadcast.log'\n",
      "\n",
      "DB Version: ccm15_0_1_11900_23\n",
      "\n",
      "Repltimeout set to: 300s\n",
      "PROCESS option set to: 1\n",
      "\n",
      "\n",
      "Cluster Detailed View from cucm1 (3 Servers):\n",
      "\n",
      "                                           PING      DB/RPC/   REPL.    Replication    REPLICATION SETUP\n",
      "SERVER-NAME              IP ADDRESS        (msec)    DbMon?    QUEUE    Group ID       (RTMT) & Details\n",
      "-----------              ----------        ------    -------   -----    -----------    ------------------\n",
      "cucm1                    198.18.133.3      0.025     Y/Y/Y     0        (g_2)          (2) Setup Completed\n",
      "cucm2                    198.18.133.33     0.258     Y/Y/Y     0        (g_5)          (2) Setup Completed\n",
      "cucm3                    198.18.133.34     0.242     Y/Y/Y     0        (g_6)          (2) Setup Completed\n",
      " \n",
      "\n",
      " \n",
      "\n",
      "Output saved to 198_18_133_3.txt\n",
      "Connection closed\n"
     ]
    }
   ],
   "source": [
    "# SAMPLE CODE TO CONNECT TO SERVERS, EXECUTE COMMANDS, SAVE OUTPUT AND CLOSE CONNECTION\n",
    "count = 0\n",
    "for cm in cm_server:\n",
    "    ip = cm['ip']\n",
    "    os_uname = cm['os_uname']\n",
    "    os_pass = cm['os_pass']\n",
    "    try:\n",
    "        ssh, interact = connect(ip, os_uname, os_pass)\n",
    "        print(\"Connected to \", ip)\n",
    "        print(ssh, interact)\n",
    "        for command in commands:\n",
    "            output = execute_command(interact, command)\n",
    "            save_output(ip, command ,output, count)\n",
    "            count = count + 1\n",
    "        close(ssh)\n",
    "    except Exception as e:\n",
    "        print(e)\n",
    "        continue"
   ]
  },
  {
   "cell_type": "code",
   "execution_count": 56,
   "metadata": {},
   "outputs": [
    {
     "name": "stdout",
     "output_type": "stream",
     "text": [
      "Analyzing output for command(s): ['utils dbreplication runtimestate']\n",
      "Error: DB/RPC/mon for ucmsub2 is Y/Y/N, should be Y/Y/Y.\n",
      "Error: Replication setup for ucmsub2 is 'Out Of Sync', should be 'Setup Completed'.\n",
      "Error: Replication setup for ucmsub1 is 'Out Of Sync', should be 'Setup Completed'.\n"
     ]
    }
   ],
   "source": [
    "# ANALYZE THE OUTPUT FILE\n",
    "\n",
    "file_path = \"10_29_194_204.txt\"\n",
    "\n",
    "analysis = DataAnalysis(file_path)\n",
    "analysis.read_cmd_output()\n",
    "results = analysis.analyze_dbreplication_output()\n",
    "print(results)"
   ]
  }
 ],
 "metadata": {
  "kernelspec": {
   "display_name": "Python 3",
   "language": "python",
   "name": "python3"
  },
  "language_info": {
   "codemirror_mode": {
    "name": "ipython",
    "version": 3
   },
   "file_extension": ".py",
   "mimetype": "text/x-python",
   "name": "python",
   "nbconvert_exporter": "python",
   "pygments_lexer": "ipython3",
   "version": "3.12.8"
  }
 },
 "nbformat": 4,
 "nbformat_minor": 2
}
