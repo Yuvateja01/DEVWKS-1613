{
 "cells": [
  {
   "cell_type": "code",
   "execution_count": 5,
   "metadata": {},
   "outputs": [],
   "source": [
    "import re\n",
    "import os\n",
    "import traceback"
   ]
  },
  {
   "cell_type": "code",
   "execution_count": 7,
   "metadata": {},
   "outputs": [],
   "source": [
    "from data_analysis import analyseLogData\n",
    "from data_representation import writeToCSV"
   ]
  },
  {
   "cell_type": "code",
   "execution_count": 1,
   "metadata": {},
   "outputs": [],
   "source": [
    "logPath = 'logs'"
   ]
  },
  {
   "cell_type": "markdown",
   "metadata": {},
   "source": [
    "# DATA COLLECTION  -   Steps to Download Syslog > Application Logs from RTMT\n",
    "\n",
    "## Step 1: Open RTMT (Real-Time Monitoring Tool)\n",
    "\n",
    "## Step 2: Log in with your Call Manager credentials\n",
    "\n",
    "## Step 3: Navigate to 'System' in the left-hand pane\n",
    "\n",
    "## Step 4: Expand 'Tools'\n",
    "\n",
    "## Step 5: Click on 'Trace & Log Central'\n",
    "\n",
    "## Step 6: In the right-hand pane, click on 'Collect Files'\n",
    "\n",
    "## Step 7: Select 'Syslog' from the list of available log types\n",
    "\n",
    "## Step 8: Choose 'Application Logs' from the sub-options\n",
    "\n",
    "## Step 9: Specify the time range for the logs you want to collect\n",
    "\n",
    "## Step 10: Click 'Next' and follow the prompts to download the logs to your local machine"
   ]
  },
  {
   "cell_type": "markdown",
   "metadata": {},
   "source": []
  },
  {
   "cell_type": "code",
   "execution_count": null,
   "metadata": {},
   "outputs": [],
   "source": [
    "# DATA PROCESSING\n",
    "\n",
    "query = analyseLogData(logPath)"
   ]
  },
  {
   "cell_type": "code",
   "execution_count": 9,
   "metadata": {},
   "outputs": [],
   "source": [
    "# DATA REPRESENTATION\n",
    "\n",
    "writeToCSV(query, 'sysLogAnalysis-ccm32.csv', ['Timestamp', 'DeviceName', 'IPAddress', 'Description', 'Reason', 'Status', 'NodeID'])"
   ]
  }
 ],
 "metadata": {
  "kernelspec": {
   "display_name": "Python 3",
   "language": "python",
   "name": "python3"
  },
  "language_info": {
   "codemirror_mode": {
    "name": "ipython",
    "version": 3
   },
   "file_extension": ".py",
   "mimetype": "text/x-python",
   "name": "python",
   "nbconvert_exporter": "python",
   "pygments_lexer": "ipython3",
   "version": "3.10.4"
  }
 },
 "nbformat": 4,
 "nbformat_minor": 2
}
